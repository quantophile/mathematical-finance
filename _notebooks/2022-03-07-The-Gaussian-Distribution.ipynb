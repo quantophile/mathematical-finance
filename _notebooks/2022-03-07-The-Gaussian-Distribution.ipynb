{
 "cells": [
  {
   "cell_type": "markdown",
   "metadata": {},
   "source": [
    "# Gaussian Distribution.\n",
    "> The DeMoivre-Laplace Limit Theorem and the Gaussian curve.\n",
    "\n",
    "- toc: true \n",
    "- badges: true\n",
    "- comments: true\n",
    "- categories: [probability-theory]"
   ]
  },
  {
   "cell_type": "markdown",
   "metadata": {},
   "source": [
    "## Taylor's theorem in one variable : A review.\n",
    "\n",
    "Suppose you have a function $f:X\\subset\\mathbf{R} \\to \\mathbf{R}$ that is differentiable at a point $a \\in X$. Then, the equation of the tangent line gives the best linear approximation for $f$ near $a$. The tangent-line to the curve $y=f(x)$ at the point $(a,f(a))$ is given by:\n",
    "\n",
    "{% raw %}\n",
    "$$\n",
    "\\begin{aligned}\n",
    "y - y_1 &= m(x - x_1) \\quad \\{\\text{ Slope-point form }\\}\\\\\n",
    "y - f(a)&= f'(a)(x - a) \\\\\n",
    "y &= f(a) + f'(a)(x-a)\n",
    "\\end{aligned}\n",
    "$$\n",
    "{% endraw %}"
   ]
  },
  {
   "cell_type": "markdown",
   "metadata": {},
   "source": [
    "Thus,\n",
    "\n",
    "$$p_1(x) = f(a) + f'(a)(x-a)$$"
   ]
  },
  {
   "cell_type": "markdown",
   "metadata": {},
   "source": [
    "The phrase best linear approximation means that if we take $R_1(x)$ to be the error term : \n",
    "\n",
    "$$R_1(x) = f(x) - p_1(x)$$ \n",
    "\n",
    "then, \n",
    "\n",
    "$$\\lim_{x \\to a} \\frac{R_1(x)}{x - a} = 0$$"
   ]
  },
  {
   "cell_type": "markdown",
   "metadata": {},
   "source": [
    "This is intuitively true, because the difference between the $y$-values of the graph of $f$ and its tangent line approach zero much faster than $x$ approaches $a$. This is what we meant by $p_1(x)$ is a good linear approximation to $f$ near $a$."
   ]
  },
  {
   "cell_type": "markdown",
   "metadata": {},
   "source": [
    "![](../images/taylorsApproximation_01.png \"If f is differentiable at a, the vertical distance between f(x) and P(x) must approach zero faster than the horizontal distance between x and a\")"
   ]
  },
  {
   "cell_type": "markdown",
   "metadata": {},
   "source": [
    "Generally, tangent lines approximate graphs of functions over very small neighborhoods containing the point of tangency. For a better approximation, we might try to fit a parabola that hugs a function's graph more closely as in the figure below. In this case, we want $p_2$ to be a quadratic function such that:\n",
    "\n",
    "$$p_2(a) = f(a), \\quad p_2'(a) = f'(a), \\quad p_2''(a) = f''(a)$$"
   ]
  },
  {
   "cell_type": "markdown",
   "metadata": {},
   "source": [
    "Let the unknown quadratic polynomial be of the functional form:\n",
    "\n",
    "$$p_2(x) = c_0 + c_1(x-a) + c_2(x-a)^2 \\tag{1}$$"
   ]
  },
  {
   "cell_type": "markdown",
   "metadata": {},
   "source": [
    "Substituting $x = a$, we have:\n",
    "\n",
    "$$c_0 = p_2(a)$$"
   ]
  },
  {
   "cell_type": "markdown",
   "metadata": {},
   "source": [
    "Differentiating (1) with respect to $x$, we get:\n",
    "\n",
    "$$p_2'(x) = c_1 + 2c_2(x-a) \\tag{2}$$"
   ]
  },
  {
   "cell_type": "markdown",
   "metadata": {},
   "source": [
    "Substituting $x = a$, we get:\n",
    "\n",
    "$$p_2'(a) = c_1$$"
   ]
  },
  {
   "cell_type": "markdown",
   "metadata": {},
   "source": [
    "Differentiating (2) with respect to $x$, we get:\n",
    "\n",
    "$$p_2''(x) = 2c_2$$"
   ]
  },
  {
   "cell_type": "markdown",
   "metadata": {},
   "source": [
    "Substituting $x = a$, we get:\n",
    "\n",
    "$$c_2 = \\frac{p_2''(a)}{2}$$"
   ]
  },
  {
   "cell_type": "markdown",
   "metadata": {},
   "source": [
    "So the only quadratic curve that satisfies the three conditions is given by:\n",
    "\n",
    "$$p_2(x) = p_2(a) + p_2'(a)(x-a) + \\frac{p_2''(a)}{2!}(x-a)^2$$"
   ]
  },
  {
   "cell_type": "markdown",
   "metadata": {},
   "source": [
    "It can be proved that if $f$ is of class $C^2$, then \n",
    "\n",
    "$$f(x) = p_2(x) + R_2(x,a)$$"
   ]
  },
  {
   "cell_type": "markdown",
   "metadata": {},
   "source": [
    "where \n",
    "\n",
    "$$\\lim_{x \\to a}\\frac{R_2(x,a)}{(x-a)^2} = 0$$"
   ]
  },
  {
   "cell_type": "markdown",
   "metadata": {},
   "source": [
    "There is no reason to stop with quadratic polynomials. Suppose we want to approximate $f$ by a polynomial $p_k$ of degree $k$, where $k$ is a positive integer. Analogous to the work above, we require that $p_k$ and its first $k$ derivatives agree with $f$ at the point $a$. Thus, we demand that:"
   ]
  },
  {
   "cell_type": "markdown",
   "metadata": {},
   "source": [
    "{% raw %}\n",
    "$$\n",
    "\\begin{aligned}\n",
    "p_k(a) &= f(a)\\\\\n",
    "p_k'(a) &= f'(a)\\\\\n",
    "p_k''(a) &= f''(a)\\\\\n",
    "& \\vdots\\\\\n",
    "p_k^{(k)}(a) &= f^{(k)}(a)\n",
    "\\end{aligned}\n",
    "$$\n",
    "{% endraw %}"
   ]
  },
  {
   "cell_type": "markdown",
   "metadata": {},
   "source": [
    "---\n",
    "**Theorem 1.** (Taylor's theorem in one variable) Let $X$ be open in $\\mathbf{R}$ and suppose $f:X \\subseteq\\mathbf{R} \\to \\mathbf{R}$ is differentiable upto (atleast) order $k$.\n",
    "\n",
    "Given $a \\in X$, let\n",
    "\n",
    "$$p_k(x) = f(a) + f'(a)(x-a) + \\frac{f''(a)}{2!}(x-a)^2 + \\ldots + \\frac{f^{k}(a)}{k!}(x-a)^k \\tag{3}$$\n",
    "\n"
   ]
  },
  {
   "cell_type": "markdown",
   "metadata": {},
   "source": [
    "Then,\n",
    "\n",
    "$$f(x) = p_k(x) + R_k(x,a)$$"
   ]
  },
  {
   "cell_type": "markdown",
   "metadata": {},
   "source": [
    "where the remainder term $R_k$ is such that $R_k(x,a)/(x-a)^k \\to 0$ as $x \\to a$.\n",
    "\n",
    "---"
   ]
  },
  {
   "cell_type": "markdown",
   "metadata": {},
   "source": [
    "The polynomial defined by the formula (1) is called the $k$th-order Taylor polynomial of $f$ at $a$. The essence of the Taylor's theorem is this : For $x$ near $a$, the Taylor polynomial $p_k$ approximates $f$ in the sense that the error $R_k$ involved in making this approximation tends to zero even faster than $(x-a)^k$ does. When $k$ is fast this is very fast indeed, as we see graphically."
   ]
  },
  {
   "cell_type": "code",
   "execution_count": 11,
   "metadata": {},
   "outputs": [
    {
     "data": {
      "image/png": "[encoded data removed]",
      "text/plain": [
       "<Figure size 432x288 with 1 Axes>"
      ]
     },
     "metadata": {
      "needs_background": "light"
     },
     "output_type": "display_data"
    }
   ],
   "source": [
    "%matplotlib inline\n",
    "import matplotlib.pyplot as plt\n",
    "import numpy as np\n",
    "\n",
    "\n",
    "x = np.linspace(0,2,1000)\n",
    "y1= [(x-1) for x in x]\n",
    "y2= [(x-1)**2 for x in x]\n",
    "y3= [(x-1)**3 for x in x]\n",
    "y4= [(x-1)**4 for x in x]\n",
    "\n",
    "plt.plot(x,y1)\n",
    "plt.plot(x,y2)\n",
    "plt.plot(x,y3)\n",
    "plt.plot(x,y4)\n",
    "plt.xlim((0,2))\n",
    "plt.grid(True)\n",
    "plt.show()"
   ]
  },
  {
   "cell_type": "markdown",
   "metadata": {},
   "source": [
    "*Proof*\n",
    "\n",
    "We settle for an intuitive calculus-based proof. We shall prove this more rigorously in the posts on Real Analysis.\n",
    "\n",
    "By the fundamental theorem of Calculus,\n",
    "\n",
    "$$f(x) - f(a) = \\int_{a}^{x}f'(t)dt \\tag{4}$$"
   ]
  },
  {
   "cell_type": "markdown",
   "metadata": {},
   "source": [
    "We evaluate the integral on the right side of (4) by means of integration by parts. Recall that the relevant formula is:\n",
    "\n",
    "$$\\int u dv = uv - \\int v du$$"
   ]
  },
  {
   "cell_type": "markdown",
   "metadata": {},
   "source": [
    "We use this formula with $u = f'(t)$ and $v = x - t$, so that $dv = -dt$. Note that in the right hand side of (4), $x$ plays the role of constant. We obtain :\n",
    "\n",
    "{% raw %}\n",
    "$$\n",
    "\\begin{aligned}\n",
    "\\int_{a}^{x} f'(t)dt &= -f'(t)(x - t)|_{a}^{x} + \\int_{a}^{x}(x-t)f''(t)dt\\\\\n",
    "&=f'(a)(x-a)+\\int_{a}^{x}(x-t)f''(t)dt\n",
    "\\end{aligned}\n",
    "$$\n",
    "{% endraw %}"
   ]
  },
  {
   "cell_type": "markdown",
   "metadata": {},
   "source": [
    "Let's refer to the above equation as (5). Combining (4) and (5), we get :\n",
    "\n",
    "$$f(x) = f(a) + f'(a)(x - a) + \\int_{a}^{x}(x-t)f''(t)dt \\tag{6}$$"
   ]
  },
  {
   "cell_type": "markdown",
   "metadata": {},
   "source": [
    "Thus, we have shown that when $f$ is differentiable atleast upto the second order, that:\n",
    "\n",
    "$$R_1(x,a) = \\int_{a}^{x}(x-t)f''(t)dt$$"
   ]
  },
  {
   "cell_type": "markdown",
   "metadata": {},
   "source": [
    "This provides an integral formula for the remainder of formula \n",
    "\n",
    "$$f(x) = p_1(x) + R_1(x,a)$$"
   ]
  },
  {
   "cell_type": "markdown",
   "metadata": {},
   "source": [
    "We are yet to establish that:\n",
    "\n",
    "$$\\lim_{x \\to a} \\frac{R_1(x,a)}{(x-a)} = 0$$"
   ]
  },
  {
   "cell_type": "markdown",
   "metadata": {},
   "source": [
    "To obtain the second-order formula, the case of $k=2$, we focus on $R_1(x,a) = \\int_{a}^{x}(x-t)f''(t)dt$ and integrate by parts again, this time with $u = f''(t)$, $dv = (x-t)dt$, so $v = -\\frac{(x-t)^2}{2}$. We obtain:\n",
    "\n",
    "{% raw %}\n",
    "$$\n",
    "\\begin{aligned}\n",
    "\\int_{a}^{x} f'(t)dt &=f'(a)(x-a)+\\int_{a}^{x}(x-t)f''(t)dt\\\\\n",
    "&=f'(a)(x-a) -f''(t) \\frac{(x-t)^2}{2}|_{a}^{x} + \\int_{a}^{x}\\frac{(x-t)^2}{2}f'''(t)dt\\\\\n",
    "&= f'(a)(x-a) + f''(a) \\frac{(x-a)^2}{2!} + \\int_{a}^{x}\\frac{(x-t)^2}{2!}f'''(t)dt\n",
    "\\end{aligned}\n",
    "$$\n",
    "{% endraw %}"
   ]
  },
  {
   "cell_type": "markdown",
   "metadata": {},
   "source": [
    "Thus, we have an integral formula for the remainder of the formula:\n",
    "\n",
    "$$f(x) = p_2(x) + R_2(x,a)$$"
   ]
  },
  {
   "cell_type": "markdown",
   "metadata": {},
   "source": [
    "We can continue to argue in this manner or use mathematical induction to show that formula (3) holds in general with\n",
    "\n",
    "$$R_k(x,a) = \\int_{a}^{x} \\frac{(x-t)^k}{k!}f^{(k)}(t)dt \\tag{7}$$"
   ]
  },
  {
   "cell_type": "markdown",
   "metadata": {},
   "source": [
    "It remains to be seen that $R_k(x,a)/(x-a)^k \\to 0$ as $x \\to a$. In formula (7), we are only considering $t$ to fall between $a$ and $x$, so that the distance $|x - t| \\leq |x - a|$. Moreover, since we are assuming that $f$ is of class $C^{k+1}$, we have that $f^{k+1}(t)$ is continuous and, therefore, bounded for $t$ between $a$ and $x$. \n",
    "\n",
    "This follows from an important result in Analysis. Let $K$ is a compact set, and $f$ be continuous over $K$. Then, $f$ preserves compact sets. $f(K)$ is compact. Thus, $f(K)$ is bounded.\n",
    "\n",
    "Consequently, there exists $M \\in \\mathbf{N}$ for all $t \\in [a,x]$ such that $|f^{k+1}(t)| \\leq M$.\n",
    "\n",
    "Thus,"
   ]
  },
  {
   "cell_type": "markdown",
   "metadata": {},
   "source": [
    "{% raw %}\n",
    "$$\n",
    "\\begin{aligned}\n",
    "|R_k(x,a)| &\\leq \\left\\|\\int_{a}^{x}\\frac{(x-t)^k}{k!}f^{k}(t)dt\\right\\|\\\\\n",
    "&\\leq \\pm \\int_{a}^{x}\\left\\|\\frac{(x-t)^k}{k!}f^{k}(t)dt\\right\\| \\quad \\{\\text{ Triangle Inequality }\\}\\\\\n",
    "&\\leq \\pm \\int_{a}^{x}\\frac{M}{k!}|x-t|^k dt \\\\\n",
    "&\\leq \\pm \\int_{a}^{x}\\frac{M}{k!}|x-a|^k dt \\\\\n",
    "&= \\frac{M}{k!}|x-a|^{k+1}\n",
    "\\end{aligned}\n",
    "$$\n",
    "{% endraw %}"
   ]
  },
  {
   "cell_type": "markdown",
   "metadata": {},
   "source": [
    "Thus, \n",
    "\n",
    "$$0 \\leq |\\frac{R_k(x,a)}{(x-a)^k}| \\leq \\frac{M}{k!}|x - a|$$\n",
    "\n",
    "As $x \\to a$, the quantity $\\frac{M}{k!}|x-a| \\to 0$. Hence, by the squeeze theorem, \n",
    "\n",
    "$$\\frac{R_k(x,a)}{(x-a)^k} \\to 0$$"
   ]
  },
  {
   "cell_type": "markdown",
   "metadata": {},
   "source": [
    "## Stirling's Formula.\n",
    "\n",
    "An important tool of analytical probability theory is contained in the classical theorem known as **Stirling's formula**.\n",
    "\n",
    "$$n! \\sim \\sqrt{2\\pi n} \\left(\\frac{n}{e}\\right)^n$$"
   ]
  },
  {
   "cell_type": "markdown",
   "metadata": {},
   "source": [
    "where the sign $\\sim$ is used to indicate that the two sides are asymptotically equal. In other words, the ratio of the two sides tends to unity, as $n \\to \\infty$.\n",
    "\n",
    "$x_n \\sim y_n$\n",
    "\n",
    "if and only if\n",
    "\n",
    "$$\\lim_{n \\to \\infty} \\frac{x_n}{y_n} = 1$$"
   ]
  },
  {
   "cell_type": "markdown",
   "metadata": {},
   "source": [
    "This formula is invaluable for many theoretical purposes and can be used also to obtain excellent numerical approximations. It is true that, the difference of the two sides increases over all bounds, but it is the percentage error that really matters. It decreases steadily, and Stirling's approximation is remarkably accurate even for small $n$."
   ]
  },
  {
   "cell_type": "markdown",
   "metadata": {},
   "source": [
    "We consider:\n",
    "\n",
    "$$a_n = \\log 2 + \\log 3 + \\ldots + \\log (n-1) + \\frac{1}{2}\\log n$$"
   ]
  },
  {
   "cell_type": "markdown",
   "metadata": {},
   "source": [
    "which differs from $\\log n!$ only by the factor $\\frac{1}{2}$ in the last term to the right. We shall show that $a_n$ represents the areas of two polygons, and this remark will lead to two bounds for $\\log n!$."
   ]
  },
  {
   "cell_type": "markdown",
   "metadata": {},
   "source": [
    "![](../images/stirlings_formula.png \"The derivation of Stirlings formula\")"
   ]
  },
  {
   "cell_type": "markdown",
   "metadata": {},
   "source": [
    "On writing \n",
    "\n",
    "$$a_n = \\frac{1}{2}(\\log 1 + \\log 2) + \\frac{1}{2}(\\log 2 + \\log 3) + \\ldots + \\frac{1}{2}(\\log (n-1) + \\log n)$$"
   ]
  },
  {
   "cell_type": "markdown",
   "metadata": {},
   "source": [
    "it becomes apparent that $a_n$ equals the area of the green trapezoids whose vertices are $A_1,A_2,\\ldots,A_n$ of the curve $y = \\log x$ with abscissas $1,2,\\ldots,n$. This polygon being inside the curve, its area is smaller than the area of the domain bounded by the curve, the $x$ -axis and the line $x = n$.\n",
    "\n",
    "Thus,\n",
    "\n",
    "$$a_n < \\int_{1}^{n}\\log x dx$$"
   ]
  },
  {
   "cell_type": "markdown",
   "metadata": {},
   "source": [
    "On the other hand, $\\log k$ equals the area of the red trapezoid with basis $k-\\frac{1}{2} < x < k + \\frac{1}{2}$. \n",
    "\n",
    "> Note: Observe that, geometrically, the slope of the red tangent at $A_2$ is $1/2$, at $A_3$ is $1/3$ and at $A_n$ is $1/n$. Thus, the endpoints of each red segment are $(1/2,\\log2 - 1/4)$ and $(3/2,\\log 2 + 1/4)$, $(\\log 3 - 1/6,\\log 3 + 1/6)$, etc. So, the areas of these trapezoids are $\\log 2$, $\\log 3$, $\\ldots$."
   ]
  },
  {
   "cell_type": "markdown",
   "metadata": {},
   "source": [
    "It follows that $\\log (n-1)!$ is *greater* than the area of the domain bounded by the $x$-axis, the curve $y=\\log x$ and the vertical lines $x = \\frac{3}{2}$ and $x=n-\\frac{1}{2}$. Now, the last rectangle, $\\frac{1}{2}\\log n$ quite obviously exceeds the area of the strip $n-\\frac{1}{2} < x < n$  under the curve."
   ]
  },
  {
   "cell_type": "markdown",
   "metadata": {},
   "source": [
    "But, \n",
    "\n",
    "$$a_n = \\log (n-1)! + \\frac{1}{2}\\log n$$"
   ]
  },
  {
   "cell_type": "markdown",
   "metadata": {},
   "source": [
    "Thus, \n",
    "\n",
    "$$a_n > \\int_{3/2}^{n}\\log x dx$$"
   ]
  },
  {
   "cell_type": "markdown",
   "metadata": {},
   "source": [
    "Consequently, we have found lower and upper bounds for $a_n$:\n",
    "\n",
    "$$\\int_{3/2}^{n} \\log x dx < a_n < \\int_{1}^{n}\\log x dx$$"
   ]
  },
  {
   "cell_type": "markdown",
   "metadata": {},
   "source": [
    "The indefinite integral of $\\log x$ is given by $x \\log x - x$, so the inequality reduces to:\n",
    "\n",
    "$$(n \\log n - n) - (3/2 \\log 3/2 - 3/2) < a_n < (n \\log n - n) - (1\\log 1 - 1)$$"
   ]
  },
  {
   "cell_type": "markdown",
   "metadata": {},
   "source": [
    "Or equivalently,\n",
    "\n",
    "$$(n \\log n - n) - (3/2 \\log 3/2 - 3/2) < \\log (n-1)! + \\frac{1}{2}\\log n < (n \\log n - n) +1$$"
   ]
  },
  {
   "cell_type": "markdown",
   "metadata": {},
   "source": [
    "Adding $\\frac{1}{2}\\log n$ we have:\n",
    "\n",
    "$$\\left(n + \\frac{1}{2}\\right)\\log n - n + \\frac{3}{2}\\left(1-\\log \\frac{3}{2}\\right) < \\log n! < \\left(n + \\frac{1}{2}\\right)\\log n - n + 1$$"
   ]
  },
  {
   "cell_type": "markdown",
   "metadata": {},
   "source": [
    "$$\\frac{3}{2}\\left(1-\\log \\frac{3}{2}\\right) < \\log n! - \\left(n + \\frac{1}{2}\\right)\\log n + n <  1$$"
   ]
  },
  {
   "cell_type": "markdown",
   "metadata": {},
   "source": [
    "Put for abbreviation :\n",
    "\n",
    "$$\\delta_n = \\log n! - \\left(n + \\frac{1}{2}\\right)\\log n + n$$"
   ]
  },
  {
   "cell_type": "markdown",
   "metadata": {},
   "source": [
    "Then, \n",
    "\n",
    "$$\\frac{3}{2}\\left(1 - \\log \\frac{3}{2}\\right) < \\delta_n < 1$$"
   ]
  },
  {
   "cell_type": "markdown",
   "metadata": {},
   "source": [
    "Geometrically, \n",
    "\n",
    "$$1-\\delta_n = \\left[1 + \\left(n + \\frac{1}{2}\\right)\\log n - n\\right]-\\log n! $$ \n",
    "\n",
    "equals the area of the domain between the curve "
   ]
  },
  {
   "cell_type": "markdown",
   "metadata": {},
   "source": [
    "## Gaussian Distribution.\n",
    "\n",
    "The Gaussian distribution is a very famous continuous distribution with a bell-shaped PDF. It is extremely widely used in finance and statistics, because of a theorem, the *central limit theorem*, which says that under very weak assumptions, the sum of a large number of i.i.d. random variables has an approximately Gaussian distribution, *regardless* of the distribution of the individual random variables. This means we can start with independent random variables from almost any distribution, discrete or continuous, but once we add up a bunch of them, the distribution of the resulting random variable looks like a Gaussian distribution. \n",
    "\n",
    "The central limit theorem is a topic for later. But in the meantime, we look at the properties of the Gaussian PDF and CDF and derive the expectation and variance of the Gaussian distribution. To do this, we will again use the strategy of location-scale transformation by starting with the simplest normal distribution, the *standard Normal*, which is centered at $0$ and has variance $1$. After deriving the properties of the standard Normal, we'll be able to get to any Normal distribution we want by shifting and scaling."
   ]
  },
  {
   "cell_type": "markdown",
   "metadata": {},
   "source": [
    "---\n",
    "**Definition 1.** (Standard Normal Distribution) A continuous random variable $Z$ is said to have the *standard normal distribution* if its PDF $\\phi$ is given by:\n",
    "\n",
    "$$\\phi(z) = \\frac{1}{\\sqrt{2\\pi}}e^{-z^2/2}$$\n",
    "\n",
    "We write this as $Z \\sim \\mathcal{N}(0,1)$ since, as we will see, $Z$ has mean $0$ and variance $1$.\n",
    "\n",
    "---"
   ]
  },
  {
   "cell_type": "markdown",
   "metadata": {},
   "source": [
    "The constant {% raw %} $\\frac{1}{\\sqrt{2\\pi}}${% endraw %} in front of the PDF may look surprising (why is something with $\\pi$ needed in front of something with $e$, when there are no circles in sight?), but it's exactly what is needed to make the PDF integrate to $1$. Such constants are called *normalizing constants* because they normalize the total area under the PDF to $1$. We'll verify soon that this is a valid PDF."
   ]
  },
  {
   "cell_type": "markdown",
   "metadata": {},
   "source": [
    "The standard normal CDF $\\Phi$ is the accumulated area under the PDF:\n",
    "\n",
    "$$\\Phi(z) = \\int_{-\\infty}^{z}\\phi(t)dt = \\int_{-\\infty}^{z}\\frac{1}{\\sqrt{2\\pi}}e^{-\\frac{t^2}{2}}$$"
   ]
  },
  {
   "cell_type": "markdown",
   "metadata": {},
   "source": [
    "Some people, upon seeing the function $\\Phi$ for the first time, express dismay that it is left in terms of an integral. Unfortunately, we have little choice in the mattter: it turns out to be mathematically impossible to find a closed-form express for the anti-derivative of $\\phi$, meaning that we cannot express $\\Phi$ as a finite sum of elementary functions such as polynomials or exponentials. But closed-form or not, it's still a well-defined function: if we give $\\Phi$ an input $z$, it returns the accumulated area under the PDF from $-\\infty$ up to $z$. That is to say, the integral converges and has a definite value for all $z \\in \\mathbf{R}$."
   ]
  },
  {
   "cell_type": "markdown",
   "metadata": {},
   "source": [
    "> Important: We can tell that the normal distribution must be special because the standard normal PDF and CDF  get their own greek letters. By convention, we use $\\phi$ for the standard normal PDF and $\\Phi$ for the CDF. We will often use $Z$ to denote a standard normal random variable."
   ]
  },
  {
   "cell_type": "markdown",
   "metadata": {},
   "source": [
    "The standard normal PDF and the standard normal CDF are plotted in the figure below. The PDF is bell-shaped and symmetric about $0$ and the CDF is $S$ shaped. "
   ]
  },
  {
   "cell_type": "code",
   "execution_count": 45,
   "metadata": {},
   "outputs": [],
   "source": [
    "import numpy as np\n",
    "import matplotlib.pyplot as plt\n",
    "\n",
    "z = np.linspace(-5.0,5.0,10001)\n",
    "\n",
    "def phi(z):\n",
    "    return 1/np.sqrt(2 * np.pi) * np.exp((-z**2)/2)\n",
    "\n",
    "def Phi(z_upper):\n",
    "    # Approximate the integral by a Riemann sum\n",
    "    z_lower = -5.0\n",
    "    dz = 0.0001\n",
    "    \n",
    "    z = np.arange(z_lower,z_upper+dz,dz)\n",
    "    prob_elmnt = phi(z) * dz\n",
    "        \n",
    "    return np.sum(prob_elmnt)"
   ]
  },
  {
   "cell_type": "code",
   "execution_count": 40,
   "metadata": {},
   "outputs": [],
   "source": [
    "pdf = list(map(phi,z))\n",
    "cdf = list(map(Phi,z))"
   ]
  },
  {
   "cell_type": "code",
   "execution_count": 43,
   "metadata": {},
   "outputs": [
    {
     "data": {
      "text/plain": [
       "[<matplotlib.lines.Line2D at 0x1d79067e5e0>]"
      ]
     },
     "execution_count": 43,
     "metadata": {},
     "output_type": "execute_result"
    },
    {
     "data": {
      "image/png": "[encoded data removed]",
      "text/plain": [
       "<Figure size 432x288 with 1 Axes>"
      ]
     },
     "metadata": {
      "needs_background": "light"
     },
     "output_type": "display_data"
    }
   ],
   "source": [
    "# collapse\n",
    "plt.xlabel(r'$z$')\n",
    "plt.ylabel(r'$\\phi(z)$')\n",
    "plt.title('PDF of the standard normal')\n",
    "plt.grid(True)\n",
    "plt.plot(z,pdf)"
   ]
  },
  {
   "cell_type": "code",
   "execution_count": 44,
   "metadata": {},
   "outputs": [
    {
     "data": {
      "text/plain": [
       "[<matplotlib.lines.Line2D at 0x1d7906e0c70>]"
      ]
     },
     "execution_count": 44,
     "metadata": {},
     "output_type": "execute_result"
    },
    {
     "data": {
      "image/png": "[encoded data removed]",
      "text/plain": [
       "<Figure size 432x288 with 1 Axes>"
      ]
     },
     "metadata": {
      "needs_background": "light"
     },
     "output_type": "display_data"
    }
   ],
   "source": [
    "# collapse \n",
    "plt.xlabel(r'$z$')\n",
    "plt.ylabel(r'$\\Phi(z)$')\n",
    "plt.title('CDF of the standard normal')\n",
    "plt.grid(True)\n",
    "plt.plot(z,cdf)"
   ]
  },
  {
   "cell_type": "markdown",
   "metadata": {},
   "source": [
    "There are several important symmetry propertoes that can be deduced from the standard normal PDF and CDF. \n",
    "\n",
    "1. *Symmetry of the PDF*: $\\phi$ satisfies $\\phi(z) = \\phi(-z)$. Notice, that $\\phi(z)$ is an even function.\n",
    "\n",
    "2. *Symmetry of the tail areas*: The area under the PDF curve to the left of $-2$, which is $P(Z \\leq -2) = \\Phi(-2)$ by definition equals the area to the right of $2$, which is $P(Z \\leq 2) = 1 - \\Phi(2)$. In general, we have for the cumulative distribution function :\n",
    "\n",
    "$$\\Phi(z) = 1 - \\Phi(-z)$$\n",
    "\n",
    "for all $z$. This can be seen visually by looking at the PDF curve, and mathematically by substituting $u = -t$ below and using the fact that PDFs integrate to $1$:\n",
    "\n",
    "$$\\Phi(-z) = \\int_{-\\infty}^{-z}\\phi(t)dt = \\int_{z}^{\\infty}\\phi(u)du = 1 - \\int_{-\\infty}^{z}\\phi(u)du = 1 - \\Phi(z)$$\n",
    "\n",
    "3. *Symmetry of $Z$ and $-Z$*: If $Z \\sim \\mathcal{N}(0,1)$, then $-Z\\sim \\mathcal{N}(0,1)$ as well. To see this, note that the CDF of $-Z$ is:\n",
    "\n",
    "$$P(-Z \\leq z) = P(Z \\geq -z) = 1 - \\Phi(-z)$$\n",
    "\n",
    "but that is $\\Phi(z)$ according to what we just argued. So, $-Z$ has the CDF $\\Phi$."
   ]
  },
  {
   "cell_type": "code",
   "execution_count": null,
   "metadata": {},
   "outputs": [],
   "source": []
  },
  {
   "cell_type": "markdown",
   "metadata": {},
   "source": [
    "## DeMoivre-Laplace Limit Theorem.\n",
    "\n",
    "Consider a coin-tossing game consisting of a sequence $n$ coin flips. Each coin toss lands heads with probability $p$ and tails with probability $q = 1 - p$. \n",
    "\n",
    "Let $X_1,X_2,\\ldots,X_n$ be $n$ independent random variables representing our gain or loss on each coin toss. If a coin lands heads, it results in a gain and $X_i = +1$ dollar. If a coin lands tails, it results in a loss, $X_i = -1$ dollar. So, $X_i$ is a $Bernoulli(p)$ random variable with the PMF:\n",
    "\n",
    "{% raw %}\n",
    "$$\n",
    "\\begin{aligned}\n",
    "P(X_i=+1) &= p\\\\\n",
    "P(X_i=-1) &= 1 - p\n",
    "\\end{aligned}\n",
    "$$\n",
    "{% endraw %}"
   ]
  },
  {
   "cell_type": "markdown",
   "metadata": {},
   "source": [
    "The first thing we want to know, is what to expect for our gain or loss in the long term. We can think of this as the cumulative sum $S_n = X_1 + X_2 + \\ldots + X_n$ for some large determinate $n \\in \\mathbf{N}$."
   ]
  },
  {
   "cell_type": "markdown",
   "metadata": {},
   "source": [
    "We have:\n",
    "\n",
    "$$E(X_j) = 1 \\cdot p + (-1) \\cdot(1-p) = 2p - 1$$"
   ]
  },
  {
   "cell_type": "markdown",
   "metadata": {},
   "source": [
    "By linearity of expectations, \n",
    "\n",
    "{% raw %}\n",
    "$$\n",
    "\\begin{aligned}\n",
    "E(S_n) &= E(X_1 + X_2 + \\ldots + X_n) \\\\\n",
    "&= E(X_1) + E(X_2) + \\ldots + E(X_n)\\\\\n",
    "&= n(2p - 1)\n",
    "\\end{aligned}\n",
    "$$\n",
    "{% endraw %}"
   ]
  },
  {
   "cell_type": "markdown",
   "metadata": {},
   "source": [
    "Suppose that we are a spectator watching the game and we are offered the chance to bet on how far away the final cumulative gains will be from what everyone in the crowd expects. What should we guess?\n",
    "\n",
    "We know that, if $X$ and $Y$ are independent random variables, then\n",
    "\n",
    "$$Var(X + Y) = Var(X) + Var(Y)$$"
   ]
  },
  {
   "cell_type": "markdown",
   "metadata": {},
   "source": [
    "Now, \n",
    "\n",
    "$$E(X_j^2) = 1^2 \\cdot p + (-1)^2 \\cdot(1-p) = 1$$\n",
    "\n",
    "So,\n",
    "\n",
    "{% raw %}\n",
    "$$\n",
    "\\begin{aligned}\n",
    "Var(X_j) &= E(X_j^2) - (E(X_j))^2\\\\\n",
    "&= 1 - (2p - 1)^2\\\\\n",
    "&= 1 - (4p^2 -4p + 1)\\\\\n",
    "&= 4p - 4p^2 \\\\\n",
    "&= 4p(1-p)\n",
    "\\end{aligned}\n",
    "$$\n",
    "{% endraw %}\n"
   ]
  },
  {
   "cell_type": "markdown",
   "metadata": {},
   "source": [
    "So,\n",
    "\n",
    "{% raw %}\n",
    "$$\n",
    "\\begin{aligned}\n",
    "Var(S_n) &= Var(X_1 + X_2 + \\ldots + X_n)\\\\\n",
    "&= Var(X_1) + \\ldots + Var(X_n)\\\\\n",
    "&= 4np(1-p)\n",
    "\\end{aligned}\n",
    "$$\n",
    "{% endraw %}\n",
    "\n",
    "Our guess should be $SD(S_n) = \\sqrt{Var(S_n)} = 2\\sqrt{np(1-p)}$."
   ]
  },
  {
   "cell_type": "markdown",
   "metadata": {},
   "source": [
    "We have determined the two basic parameters of the game:\n",
    "\n",
    "The expected long term result :\n",
    "\n",
    "$$E(S_n) = n(2p - 1)$$\n",
    "\n",
    "The guess for the deviation from the expected long term result:\n",
    "\n",
    "$$SD(S_n) = 2\\sqrt{np(1-p)}$$"
   ]
  },
  {
   "cell_type": "code",
   "execution_count": null,
   "metadata": {},
   "outputs": [],
   "source": []
  }
 ],
 "metadata": {
  "kernelspec": {
   "display_name": "Python 3",
   "language": "python",
   "name": "python3"
  },
  "language_info": {
   "codemirror_mode": {
    "name": "ipython",
    "version": 3
   },
   "file_extension": ".py",
   "mimetype": "text/x-python",
   "name": "python",
   "nbconvert_exporter": "python",
   "pygments_lexer": "ipython3",
   "version": "3.8.3"
  }
 },
 "nbformat": 4,
 "nbformat_minor": 4
}
