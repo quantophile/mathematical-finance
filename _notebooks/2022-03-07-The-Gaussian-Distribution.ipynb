{
 "cells": [
  {
   "cell_type": "markdown",
   "metadata": {},
   "source": [
    "# Gaussian Distribution.\n",
    "> The DeMoivre-Laplace Limit Theorem and the Gaussian curve.\n",
    "\n",
    "- toc: true \n",
    "- badges: true\n",
    "- comments: true\n",
    "- categories: [probability-theory]"
   ]
  },
  {
   "cell_type": "markdown",
   "metadata": {},
   "source": [
    "## Taylor's theorem in one variable : A review.\n",
    "\n",
    "Suppose you have a function $f:X\\subset\\mathbf{R} \\to \\mathbf{R}$ that is differentiable at a point $a \\in X$. Then, the equation of the tangent line gives the best linear approximation for $f$ near $a$. The tangent-line to the curve $y=f(x)$ at the point $(a,f(a))$ is given by:\n",
    "\n",
    "{% raw %}\n",
    "$$\n",
    "\\begin{aligned}\n",
    "y - y_1 &= m(x - x_1) \\quad \\{\\text{ Slope-point form }\\}\\\\\n",
    "y - f(a)&= f'(a)(x - a) \\\\\n",
    "y &= f(a) + f'(a)(x-a)\n",
    "\\end{aligned}\n",
    "$$\n",
    "{% endraw %}"
   ]
  },
  {
   "cell_type": "markdown",
   "metadata": {},
   "source": [
    "Thus,\n",
    "\n",
    "$$p_1(x) = f(a) + f'(a)(x-a)$$"
   ]
  },
  {
   "cell_type": "markdown",
   "metadata": {},
   "source": [
    "The phrase best linear approximation means that if we take $R_1(x)$ to be the error term : \n",
    "\n",
    "$$R_1(x) = f(x) - p_1(x)$$ \n",
    "\n",
    "then, \n",
    "\n",
    "$$\\lim_{x \\to a} \\frac{R_1(x)}{x - a} = 0$$"
   ]
  },
  {
   "cell_type": "markdown",
   "metadata": {},
   "source": [
    "This is intuitively true, because the difference between the $y$-values of the graph of $f$ and its tangent line approach zero much faster than $x$ approaches $a$. This is what we meant by $p_1(x)$ is a good linear approximation to $f$ near $a$."
   ]
  },
  {
   "cell_type": "markdown",
   "metadata": {},
   "source": [
    "![](../images/taylorsApproximation_01.png \"If f is differentiable at a, the vertical distance between f(x) and P(x) must approach zero faster than the horizontal distance between x and a\")"
   ]
  },
  {
   "cell_type": "markdown",
   "metadata": {},
   "source": [
    "Generally, tangent lines approximate graphs of functions over very small neighborhoods containing the point of tangency. For a better approximation, we might try to fit a parabola that hugs a function's graph more closely as in the figure below. In this case, we want $p_2$ to be a quadratic function such that:\n",
    "\n",
    "$$p_2(a) = f(a), \\quad p_2'(a) = f'(a), \\quad p_2''(a) = f''(a)$$"
   ]
  },
  {
   "cell_type": "markdown",
   "metadata": {},
   "source": [
    "Let the unknown quadratic polynomial be of the functional form:\n",
    "\n",
    "$$p_2(x) = c_0 + c_1(x-a) + c_2(x-a)^2 \\tag{1}$$"
   ]
  },
  {
   "cell_type": "markdown",
   "metadata": {},
   "source": [
    "Substituting $x = a$, we have:\n",
    "\n",
    "$$c_0 = p_2(a)$$"
   ]
  },
  {
   "cell_type": "markdown",
   "metadata": {},
   "source": [
    "Differentiating (1) with respect to $x$, we get:\n",
    "\n",
    "$$p_2'(x) = c_1 + 2c_2(x-a) \\tag{2}$$"
   ]
  },
  {
   "cell_type": "markdown",
   "metadata": {},
   "source": [
    "Substituting $x = a$, we get:\n",
    "\n",
    "$$p_2'(a) = c_1$$"
   ]
  },
  {
   "cell_type": "markdown",
   "metadata": {},
   "source": [
    "Differentiating (2) with respect to $x$, we get:\n",
    "\n",
    "$$p_2''(x) = 2c_2$$"
   ]
  },
  {
   "cell_type": "markdown",
   "metadata": {},
   "source": [
    "Substituting $x = a$, we get:\n",
    "\n",
    "$$c_2 = \\frac{p_2''(a)}{2}$$"
   ]
  },
  {
   "cell_type": "markdown",
   "metadata": {},
   "source": [
    "So the only quadratic curve that satisfies the three conditions is given by:\n",
    "\n",
    "$$p_2(x) = p_2(a) + p_2'(a)(x-a) + \\frac{p_2''(a)}{2!}(x-a)^2$$"
   ]
  },
  {
   "cell_type": "markdown",
   "metadata": {},
   "source": [
    "It can be proved that if $f$ is of class $C^2$, then \n",
    "\n",
    "$$f(x) = p_2(x) + R_2(x,a)$$"
   ]
  },
  {
   "cell_type": "markdown",
   "metadata": {},
   "source": [
    "where \n",
    "\n",
    "$$\\lim_{x \\to a}\\frac{R_2(x,a)}{(x-a)^2} = 0$$"
   ]
  },
  {
   "cell_type": "markdown",
   "metadata": {},
   "source": [
    "There is no reason to stop with quadratic polynomials. Suppose we want to approximate $f$ by a polynomial $p_k$ of degree $k$, where $k$ is a positive integer. Analogous to the work above, we require that $p_k$ and its first $k$ derivatives agree with $f$ at the point $a$. Thus, we demand that:"
   ]
  },
  {
   "cell_type": "markdown",
   "metadata": {},
   "source": [
    "{% raw %}\n",
    "$$\n",
    "\\begin{aligned}\n",
    "p_k(a) &= f(a)\\\\\n",
    "p_k'(a) &= f'(a)\\\\\n",
    "p_k''(a) &= f''(a)\\\\\n",
    "& \\vdots\\\\\n",
    "p_k^{(k)}(a) &= f^{(k)}(a)\n",
    "\\end{aligned}\n",
    "$$\n",
    "{% endraw %}"
   ]
  },
  {
   "cell_type": "markdown",
   "metadata": {},
   "source": [
    "---\n",
    "**Theorem 1.** (Taylor's theorem in one variable) Let $X$ be open in $\\mathbf{R}$ and suppose $f:X \\subseteq\\mathbf{R} \\to \\mathbf{R}$ is differentiable upto (atleast) order $k$.\n",
    "\n",
    "Given $a \\in X$, let\n",
    "\n",
    "$$p_k(x) = f(a) + f'(a)(x-a) + \\frac{f''(a)}{2!}(x-a)^2 + \\ldots + \\frac{f^{k}(a)}{k!}(x-a)^k \\tag{3}$$\n",
    "\n"
   ]
  },
  {
   "cell_type": "markdown",
   "metadata": {},
   "source": [
    "Then,\n",
    "\n",
    "$$f(x) = p_k(x) + R_k(x,a)$$"
   ]
  },
  {
   "cell_type": "markdown",
   "metadata": {},
   "source": [
    "where the remainder term $R_k$ is such that $R_k(x,a)/(x-a)^k \\to 0$ as $x \\to a$.\n",
    "\n",
    "---"
   ]
  },
  {
   "cell_type": "markdown",
   "metadata": {},
   "source": [
    "The polynomial defined by the formula (1) is called the $k$th-order Taylor polynomial of $f$ at $a$. The essence of the Taylor's theorem is this : For $x$ near $a$, the Taylor polynomial $p_k$ approximates $f$ in the sense that the error $R_k$ involved in making this approximation tends to zero even faster than $(x-a)^k$ does. When $k$ is fast this is very fast indeed, as we see graphically."
   ]
  },
  {
   "cell_type": "code",
   "execution_count": 11,
   "metadata": {},
   "outputs": [
    {
     "data": {
      "image/png": "[encoded data removed]",
      "text/plain": [
       "<Figure size 432x288 with 1 Axes>"
      ]
     },
     "metadata": {
      "needs_background": "light"
     },
     "output_type": "display_data"
    }
   ],
   "source": [
    "%matplotlib inline\n",
    "import matplotlib.pyplot as plt\n",
    "import numpy as np\n",
    "\n",
    "\n",
    "x = np.linspace(0,2,1000)\n",
    "y1= [(x-1) for x in x]\n",
    "y2= [(x-1)**2 for x in x]\n",
    "y3= [(x-1)**3 for x in x]\n",
    "y4= [(x-1)**4 for x in x]\n",
    "\n",
    "plt.plot(x,y1)\n",
    "plt.plot(x,y2)\n",
    "plt.plot(x,y3)\n",
    "plt.plot(x,y4)\n",
    "plt.xlim((0,2))\n",
    "plt.grid(True)\n",
    "plt.show()"
   ]
  },
  {
   "cell_type": "markdown",
   "metadata": {},
   "source": [
    "*Proof*\n",
    "\n",
    "We settle for an intuitive calculus-based proof. We shall prove this more rigorously in the posts on Real Analysis.\n",
    "\n",
    "By the fundamental theorem of Calculus,\n",
    "\n",
    "$$f(x) - f(a) = \\int_{a}^{x}f'(t)dt \\tag{4}$$"
   ]
  },
  {
   "cell_type": "markdown",
   "metadata": {},
   "source": [
    "We evaluate the integral on the right side of (4) by means of integration by parts. Recall that the relevant formula is:\n",
    "\n",
    "$$\\int u dv = uv - \\int v du$$"
   ]
  },
  {
   "cell_type": "markdown",
   "metadata": {},
   "source": [
    "We use this formula with $u = f'(t)$ and $v = x - t$, so that $dv = -dt$. Note that in the right hand side of (4), $x$ plays the role of constant. We obtain :\n",
    "\n",
    "{% raw %}\n",
    "$$\n",
    "\\begin{aligned}\n",
    "\\int_{a}^{x} f'(t)dt &= -f'(t)(x - t)|_{a}^{x} + \\int_{a}^{x}(x-t)f''(t)dt\\\\\n",
    "&=f'(a)(x-a)+\\int_{a}^{x}(x-t)f''(t)dt\n",
    "\\end{aligned}\n",
    "$$\n",
    "{% endraw %}"
   ]
  },
  {
   "cell_type": "markdown",
   "metadata": {},
   "source": [
    "Let's refer to the above equation as (5). Combining (4) and (5), we get :\n",
    "\n",
    "$$f(x) = f(a) + f'(a)(x - a) + \\int_{a}^{x}(x-t)f''(t)dt \\tag{6}$$"
   ]
  },
  {
   "cell_type": "markdown",
   "metadata": {},
   "source": [
    "Thus, we have shown that when $f$ is differentiable atleast upto the second order, that:\n",
    "\n",
    "$$R_1(x,a) = \\int_{a}^{x}(x-t)f''(t)dt$$"
   ]
  },
  {
   "cell_type": "markdown",
   "metadata": {},
   "source": [
    "This provides an integral formula for the remainder of formula \n",
    "\n",
    "$$f(x) = p_1(x) + R_1(x,a)$$"
   ]
  },
  {
   "cell_type": "markdown",
   "metadata": {},
   "source": [
    "We are yet to establish that:\n",
    "\n",
    "$$\\lim_{x \\to a} \\frac{R_1(x,a)}{(x-a)} = 0$$"
   ]
  },
  {
   "cell_type": "markdown",
   "metadata": {},
   "source": [
    "To obtain the second-order formula, the case of $k=2$, we focus on $R_1(x,a) = \\int_{a}^{x}(x-t)f''(t)dt$ and integrate by parts again, this time with $u = f''(t)$, $dv = (x-t)dt$, so $v = -\\frac{(x-t)^2}{2}$. We obtain:\n",
    "\n",
    "{% raw %}\n",
    "$$\n",
    "\\begin{aligned}\n",
    "\\int_{a}^{x} f'(t)dt &=f'(a)(x-a)+\\int_{a}^{x}(x-t)f''(t)dt\\\\\n",
    "&=f'(a)(x-a) -f''(t) \\frac{(x-t)^2}{2}|_{a}^{x} + \\int_{a}^{x}\\frac{(x-t)^2}{2}f'''(t)dt\\\\\n",
    "&= f'(a)(x-a) + f''(a) \\frac{(x-a)^2}{2!} + \\int_{a}^{x}\\frac{(x-t)^2}{2!}f'''(t)dt\n",
    "\\end{aligned}\n",
    "$$\n",
    "{% endraw %}"
   ]
  },
  {
   "cell_type": "markdown",
   "metadata": {},
   "source": [
    "Thus, we have an integral formula for the remainder of the formula:\n",
    "\n",
    "$$f(x) = p_2(x) + R_2(x,a)$$"
   ]
  },
  {
   "cell_type": "markdown",
   "metadata": {},
   "source": [
    "We can continue to argue in this manner or use mathematical induction to show that formula (3) holds in general with\n",
    "\n",
    "$$R_k(x,a) = \\int_{a}^{x} \\frac{(x-t)^k}{k!}f^{(k)}(t)dt \\tag{7}$$"
   ]
  },
  {
   "cell_type": "markdown",
   "metadata": {},
   "source": [
    "It remains to be seen that $R_k(x,a)/(x-a)^k \\to 0$ as $x \\to a$. In formula (7), we are only considering $t$ to fall between $a$ and $x$, so that the distance $|x - t| \\leq |x - a|$. Moreover, since we are assuming that $f$ is of class $C^{k+1}$, we have that $f^{k+1}(t)$ is continuous and, therefore, bounded for $t$ between $a$ and $x$. \n",
    "\n",
    "This follows from an important result in Analysis. Let $K$ is a compact set, and $f$ be continuous over $K$. Then, $f$ preserves compact sets. $f(K)$ is compact. Thus, $f(K)$ is bounded.\n",
    "\n",
    "Consequently, there exists $M \\in \\mathbf{N}$ for all $t \\in [a,x]$ such that $|f^{k+1}(t)| \\leq M$.\n",
    "\n",
    "Thus,"
   ]
  },
  {
   "cell_type": "markdown",
   "metadata": {},
   "source": [
    "{% raw %}\n",
    "$$\n",
    "\\begin{aligned}\n",
    "|R_k(x,a)| &\\leq \\left\\|\\int_{a}^{x}\\frac{(x-t)^k}{k!}f^{k}(t)dt\\right\\|\\\\\n",
    "&\\leq \\pm \\int_{a}^{x}\\left\\|\\frac{(x-t)^k}{k!}f^{k}(t)dt\\right\\| \\quad \\{\\text{ Triangle Inequality }\\}\\\\\n",
    "&\\leq \\pm \\int_{a}^{x}\\frac{M}{k!}|x-t|^k dt \\\\\n",
    "&\\leq \\pm \\int_{a}^{x}\\frac{M}{k!}|x-a|^k dt \\\\\n",
    "&= \\frac{M}{k!}|x-a|^{k+1}\n",
    "\\end{aligned}\n",
    "$$\n",
    "{% endraw %}"
   ]
  },
  {
   "cell_type": "markdown",
   "metadata": {},
   "source": [
    "Thus, \n",
    "\n",
    "$$0 \\leq |\\frac{R_k(x,a)}{(x-a)^k}| \\leq \\frac{M}{k!}|x - a|$$\n",
    "\n",
    "As $x \\to a$, the quantity $\\frac{M}{k!}|x-a| \\to 0$. Hence, by the squeeze theorem, \n",
    "\n",
    "$$\\frac{R_k(x,a)}{(x-a)^k} \\to 0$$"
   ]
  },
  {
   "cell_type": "markdown",
   "metadata": {},
   "source": [
    "## Stirling's Formula.\n",
    "\n",
    "An important tool of analytical probability theory is contained in the classical theorem known as **Stirling's formula**.\n",
    "\n",
    "$$n! \\sim \\sqrt{2\\pi n} \\left(\\frac{n}{e}\\right)^n$$"
   ]
  },
  {
   "cell_type": "code",
   "execution_count": null,
   "metadata": {},
   "outputs": [],
   "source": []
  }
 ],
 "metadata": {
  "kernelspec": {
   "display_name": "Python 3",
   "language": "python",
   "name": "python3"
  },
  "language_info": {
   "codemirror_mode": {
    "name": "ipython",
    "version": 3
   },
   "file_extension": ".py",
   "mimetype": "text/x-python",
   "name": "python",
   "nbconvert_exporter": "python",
   "pygments_lexer": "ipython3",
   "version": "3.8.3"
  }
 },
 "nbformat": 4,
 "nbformat_minor": 4
}
