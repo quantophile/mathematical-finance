{
 "cells": [
  {
   "cell_type": "markdown",
   "metadata": {},
   "source": [
    "# Gaussian Distribution.\n",
    "> The DeMoivre-Laplace Limit Theorem and the Gaussian curve.\n",
    "\n",
    "- toc: true \n",
    "- badges: true\n",
    "- comments: true\n",
    "- categories: [probability-theory]"
   ]
  },
  {
   "cell_type": "markdown",
   "metadata": {},
   "source": [
    "## Taylor's theorem in one variable : A review.\n",
    "\n",
    "Suppose you have a function $f:X\\subset\\mathbf{R} \\to \\mathbf{R}$ that is differentiable at a point $a \\in X$. Then, the equation of the tangent line gives the best linear approximation for $f$ near $a$. The tangent-line to the curve $y=f(x)$ at the point $(a,f(a))$ is given by:\n",
    "\n",
    "{% raw %}\n",
    "$$\n",
    "\\begin{aligned}\n",
    "y - y_1 &= m(x - x_1) \\quad \\{\\text{ Slope-point form }\\}\\\\\n",
    "y - f(a)&= f'(a)(x - a) \\\\\n",
    "y &= f(a) + f'(a)(x-a)\n",
    "\\end{aligned}\n",
    "$$\n",
    "{% endraw %}"
   ]
  },
  {
   "cell_type": "markdown",
   "metadata": {},
   "source": [
    "Thus,\n",
    "\n",
    "$$p_1(x) = f(a) + f'(a)(x-a)$$"
   ]
  },
  {
   "cell_type": "markdown",
   "metadata": {},
   "source": [
    "The phrase best linear approximation means that if we take $R_1(x)$ to be the error term : \n",
    "\n",
    "$$R_1(x) = f(x) - p_1(x)$$ \n",
    "\n",
    "then, \n",
    "\n",
    "$$\\lim_{x \\to a} \\frac{R_1(x)}{x - a} = 0$$"
   ]
  },
  {
   "cell_type": "markdown",
   "metadata": {},
   "source": [
    "This is intuitively true, because the difference between the $y$-values of the graph of $f$ and its tangent line approach zero much faster than $x$ approaches $a$. This is what we meant by $p_1(x)$ is a good linear approximation to $f$ near $a$."
   ]
  },
  {
   "cell_type": "markdown",
   "metadata": {},
   "source": [
    "![](../images/taylorsApproximation_01.png \"If f is differentiable at a, the vertical distance between f(x) and P(x) must approach zero faster than the horizontal distance between x and a\")"
   ]
  },
  {
   "cell_type": "markdown",
   "metadata": {},
   "source": [
    "Generally, tangent lines approximate graphs of functions over very small neighborhoods containing the point of tangency. For a better approximation, we might try to fit a parabola that hugs a function's graph more closely as in the figure below. In this case, we want $p_2$ to be a quadratic function such that:\n",
    "\n",
    "$$p_2(a) = f(a), \\quad p_2'(a) = f'(a), \\quad p_2''(a) = f''(a)$$"
   ]
  },
  {
   "cell_type": "markdown",
   "metadata": {},
   "source": [
    "Let the unknown quadratic polynomial be of the functional form:\n",
    "\n",
    "$$p_2(x) = c_0 + c_1(x-a) + c_2(x-a)^2 \\tag{1}$$"
   ]
  },
  {
   "cell_type": "markdown",
   "metadata": {},
   "source": [
    "Substituting $x = a$, we have:\n",
    "\n",
    "$$c_0 = p_2(a)$$"
   ]
  },
  {
   "cell_type": "markdown",
   "metadata": {},
   "source": [
    "Differentiating (1) with respect to $x$, we get:\n",
    "\n",
    "$$p_2'(x) = c_1 + 2c_2(x-a) \\tag{2}$$"
   ]
  },
  {
   "cell_type": "markdown",
   "metadata": {},
   "source": [
    "Substituting $x = a$, we get:\n",
    "\n",
    "$$p_2'(a) = c_1$$"
   ]
  },
  {
   "cell_type": "markdown",
   "metadata": {},
   "source": [
    "Differentiating (2) with respect to $x$, we get:\n",
    "\n",
    "$$p_2''(x) = 2c_2$$"
   ]
  },
  {
   "cell_type": "markdown",
   "metadata": {},
   "source": [
    "Substituting $x = a$, we get:\n",
    "\n",
    "$$c_2 = \\frac{p_2''(a)}{2}$$"
   ]
  },
  {
   "cell_type": "markdown",
   "metadata": {},
   "source": [
    "So the only quadratic curve that satisfies the three conditions is given by:\n",
    "\n",
    "$$p_2(x) = p_2(a) + p_2'(a)(x-a) + \\frac{p_2''(a)}{2!}(x-a)^2$$"
   ]
  },
  {
   "cell_type": "markdown",
   "metadata": {},
   "source": [
    "It can be proved that if $f$ is of class $C^2$, then \n",
    "\n",
    "$$f(x) = p_2(x) + R_2(x,a)$$"
   ]
  },
  {
   "cell_type": "markdown",
   "metadata": {},
   "source": [
    "where \n",
    "\n",
    "$$\\lim_{x \\to a}\\frac{R_2(x,a)}{(x-a)^2} = 0$$"
   ]
  },
  {
   "cell_type": "markdown",
   "metadata": {},
   "source": [
    "There is no reason to stop with quadratic polynomials. Suppose we want to approximate $f$ by a polynomial $p_k$ of degree $k$, where $k$ is a positive integer. Analogous to the work above, we require that $p_k$ and its first $k$ derivatives agree with $f$ at the point $a$. Thus, we demand that:"
   ]
  },
  {
   "cell_type": "markdown",
   "metadata": {},
   "source": [
    "{% raw %}\n",
    "$$\n",
    "\\begin{aligned}\n",
    "p_k(a) &= f(a)\\\\\n",
    "p_k'(a) &= f'(a)\\\\\n",
    "p_k''(a) &= f''(a)\\\\\n",
    "& \\vdots\\\\\n",
    "p_k^{(k)}(a) &= f^{(k)}(a)\n",
    "\\end{aligned}\n",
    "$$\n",
    "{% endraw %}"
   ]
  },
  {
   "cell_type": "code",
   "execution_count": null,
   "metadata": {},
   "outputs": [],
   "source": []
  }
 ],
 "metadata": {
  "kernelspec": {
   "display_name": "Julia 1.5.3",
   "language": "julia",
   "name": "julia-1.5"
  },
  "language_info": {
   "file_extension": ".jl",
   "mimetype": "application/julia",
   "name": "julia",
   "version": "1.5.3"
  }
 },
 "nbformat": 4,
 "nbformat_minor": 4
}
