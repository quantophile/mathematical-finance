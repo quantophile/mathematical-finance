{
 "cells": [
  {
   "cell_type": "markdown",
   "metadata": {},
   "source": [
    "# Gaussian Distribution.\n",
    "> The DeMoivre-Laplace Limit Theorem and the Gaussian curve.\n",
    "\n",
    "- toc: true \n",
    "- badges: true\n",
    "- comments: true\n",
    "- categories: [probability-theory]"
   ]
  },
  {
   "cell_type": "markdown",
   "metadata": {},
   "source": [
    "## Taylor's theorem in one variable : A review.\n",
    "\n",
    "Suppose you have a function $f:X\\subset\\mathbf{R} \\to \\mathbf{R}$ that is differentiable at a point $a \\in X$. Then, the equation of the tangent line gives the best linear approximation for $f$ near $a$. The tangent-line to the curve $y=f(x)$ at the point $(a,f(a))$ is given by:\n",
    "\n",
    "{% raw %}\n",
    "$$\n",
    "\\begin{aligned}\n",
    "y - y_1 &= m(x - x_1) \\quad \\{\\text{ Slope-point form }\\}\\\\\n",
    "y - f(a)&= f'(a)(x - a) \\\\\n",
    "y &= f(a) + f'(a)(x-a)\n",
    "\\end{aligned}\n",
    "$$\n",
    "{% endraw %}"
   ]
  },
  {
   "cell_type": "markdown",
   "metadata": {},
   "source": [
    "Thus,\n",
    "\n",
    "$$p_1(x) = f(a) + f'(a)(x-a)$$"
   ]
  },
  {
   "cell_type": "markdown",
   "metadata": {},
   "source": [
    "The phrase best linear approximation means that if we take $R_1(x)$ to be the error term : \n",
    "\n",
    "$$R_1(x) = f(x) - p_1(x)$$ \n",
    "\n",
    "then, \n",
    "\n",
    "$$\\lim_{x \\to a} \\frac{R_1(x)}{x - a} = 0$$"
   ]
  },
  {
   "cell_type": "markdown",
   "metadata": {},
   "source": [
    "This is intuitively true, because the difference between the $y$-values of the graph of $f$ and its tangent line approach zero much faster than $x$ approaches $a$. This is what we meant by $p_1(x)$ is a good linear approximation to $f$ near $a$."
   ]
  },
  {
   "cell_type": "markdown",
   "metadata": {},
   "source": [
    "![](../images/taylorsApproximation_01.png \"If f is differentiable at a, the vertical distance between f(x) and P(x) must approach zero faster than the horizontal distance between x and a\")"
   ]
  },
  {
   "cell_type": "code",
   "execution_count": null,
   "metadata": {},
   "outputs": [],
   "source": []
  }
 ],
 "metadata": {
  "kernelspec": {
   "display_name": "Julia 1.5.3",
   "language": "julia",
   "name": "julia-1.5"
  },
  "language_info": {
   "file_extension": ".jl",
   "mimetype": "application/julia",
   "name": "julia",
   "version": "1.5.3"
  }
 },
 "nbformat": 4,
 "nbformat_minor": 4
}
