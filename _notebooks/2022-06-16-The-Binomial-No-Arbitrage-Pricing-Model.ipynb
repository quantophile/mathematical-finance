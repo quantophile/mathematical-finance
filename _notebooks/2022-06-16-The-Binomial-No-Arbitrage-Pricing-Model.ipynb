{
 "cells": [
  {
   "cell_type": "markdown",
   "metadata": {},
   "source": [
    "# The Binomial No Arbitrage Pricing Model\n",
    "> Book Summary\n",
    "\n",
    "- toc: true \n",
    "- badges: true\n",
    "- comments: true\n",
    "- categories: [jupyter]\n",
    "\n",
    "### The One-Period Binomial Model\n",
    "\n",
    "The *binomial asset-pricing model* provides a powerful tool to undersand *arbitrage pricing theory* and probability. In this notebook, we introduce this tool for the first purpose and we take the second in the next post. In this section, we consider the simplest binomial model, the one with only one period. This is generalized to the more realistic multiperiod binomial model in the next section.\n",
    "\n",
    "For the general one-period model of the below figure, we call the beginning of the period *time zero* and the end of the period *time one*. At time zero, we have a stock whose price per share we denote by $S_0$, a positive quantity known at time zero. At time one, the price per share of this stock will be one of the two positive values, which we denote $S_1(H)$ and $S_1(T)$, the $H$ and $T$ standing for head and tail respectively. \n",
    "\n",
    "Thus, we are imagining that a coin is tossed, and the outcome of the coin toss determines the price at time one. We do not assume this coin is fair (that is the probability of head need not be one-half). We only assume that the probability of the head, which we call $p$ is positive and the probability of the tail which is $q = 1 - p$, is also positive."
   ]
  },
  {
   "cell_type": "markdown",
   "metadata": {},
   "source": [
    "![](../images/one-period-binomial-model.png \"General one-period binomial model\")"
   ]
  },
  {
   "cell_type": "markdown",
   "metadata": {},
   "source": [
    "The outcome of the coin toss, and hence the value which the stock price will take at time one is known at time one but not at time zero. We shall refer to any quantity not known at time zero as random, because it depends on the random experiment of tossing a coin. We introduce two positive numbers:\n",
    "\n",
    "$$u = \\frac{S_1(H)}{S_0}, d = \\frac{S_1(T)}{S_0}$$"
   ]
  },
  {
   "cell_type": "code",
   "execution_count": null,
   "metadata": {},
   "outputs": [],
   "source": []
  }
 ],
 "metadata": {
  "kernelspec": {
   "display_name": "Julia 1.5.3",
   "language": "julia",
   "name": "julia-1.5"
  },
  "language_info": {
   "file_extension": ".jl",
   "mimetype": "application/julia",
   "name": "julia",
   "version": "1.5.3"
  }
 },
 "nbformat": 4,
 "nbformat_minor": 4
}
