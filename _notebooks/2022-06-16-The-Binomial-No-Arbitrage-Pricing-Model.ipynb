{
 "cells": [
  {
   "cell_type": "markdown",
   "metadata": {},
   "source": [
    "## The Binomial No Arbitrage Pricing Model\n",
    "\n",
    "### The One-Period Binomial Model\n",
    "\n",
    "The *binomial asset-pricing model* provides a powerful tool to undersand *arbitrage pricing theory* and probability. In this notebook, we introduce this tool for the first purpose and we take the second in the next post. In this section, we consider the simplest binomial model, the one with only one period. This is generalized to the more realistic multiperiod binomial model in the next section.\n",
    "\n",
    "For the general one-period model of "
   ]
  }
 ],
 "metadata": {
  "kernelspec": {
   "display_name": "Julia 1.5.3",
   "language": "julia",
   "name": "julia-1.5"
  },
  "language_info": {
   "file_extension": ".jl",
   "mimetype": "application/julia",
   "name": "julia",
   "version": "1.5.3"
  }
 },
 "nbformat": 4,
 "nbformat_minor": 4
}
