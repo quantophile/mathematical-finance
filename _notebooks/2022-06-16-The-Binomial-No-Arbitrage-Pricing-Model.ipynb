{
 "cells": [
  {
   "cell_type": "markdown",
   "metadata": {},
   "source": [
    "# The Binomial No Arbitrage Pricing Model\n",
    "> Book Summary\n",
    "\n",
    "- toc: true \n",
    "- badges: true\n",
    "- comments: true\n",
    "- categories: [jupyter]\n",
    "\n",
    "### The One-Period Binomial Model\n",
    "\n",
    "The *binomial asset-pricing model* provides a powerful tool to undersand *arbitrage pricing theory* and probability. In this notebook, we introduce this tool for the first purpose and we take the second in the next post. In this section, we consider the simplest binomial model, the one with only one period. This is generalized to the more realistic multiperiod binomial model in the next section.\n",
    "\n",
    "For the general one-period model of the below figure, we call the beginning of the period *time zero* and the end of the period *time one*. At time zero, we have a stock whose price per share we denote by $S_0$, a positive quantity known at time zero. At time one, the price per share of this stock will be one of the two positive values, which we denote $S_1(H)$ and $S_1(T)$, the $H$ and $T$ standing for head and tail respectively. "
   ]
  }
 ],
 "metadata": {
  "kernelspec": {
   "display_name": "Julia 1.5.3",
   "language": "julia",
   "name": "julia-1.5"
  },
  "language_info": {
   "file_extension": ".jl",
   "mimetype": "application/julia",
   "name": "julia",
   "version": "1.5.3"
  }
 },
 "nbformat": 4,
 "nbformat_minor": 4
}
